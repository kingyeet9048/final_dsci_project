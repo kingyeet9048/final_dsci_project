{
  "nbformat": 4,
  "nbformat_minor": 0,
  "metadata": {
    "colab": {
      "name": "Camshift.ipynb",
      "provenance": [],
      "collapsed_sections": [],
      "authorship_tag": "ABX9TyP1jGfVVY4KVh/kfpHnFhSz",
      "include_colab_link": true
    },
    "kernelspec": {
      "name": "python3",
      "display_name": "Python 3"
    }
  },
  "cells": [
    {
      "cell_type": "markdown",
      "metadata": {
        "id": "view-in-github",
        "colab_type": "text"
      },
      "source": [
        "<a href=\"https://colab.research.google.com/github/kingyeet9048/final_dsci_project/blob/master/Camshift.ipynb\" target=\"_parent\"><img src=\"https://colab.research.google.com/assets/colab-badge.svg\" alt=\"Open In Colab\"/></a>"
      ]
    },
    {
      "cell_type": "code",
      "metadata": {
        "id": "YqxrDme9KUf2"
      },
      "source": [
        "# import the necessary packages\n",
        "import numpy as np\n",
        "import argparse\n",
        "import cv2\n",
        "# initialize the current frame of the video, along with the list of# ROI points along with whether or not this is input mode\n",
        "frame = None\n",
        "roiPts = []\n",
        "inputMode = False"
      ],
      "execution_count": 3,
      "outputs": []
    },
    {
      "cell_type": "code",
      "metadata": {
        "id": "0UFbU52SUoYJ"
      },
      "source": [
        "def selectROI(event, x, y, flags, param):\n",
        "  global frame, roiPts, inputMode\n",
        "\n",
        "  if inputMode and event == cv2.EVENT_LBUTTONDOWN and len(roiPts) < 4:\n",
        "    roiPts.append((x, y))\n",
        "    cv2.circle(frame, (x, y), 4, (0, 255, 0), 2)\n",
        "    cv2.imshow(\"frame\", frame)"
      ],
      "execution_count": 4,
      "outputs": []
    },
    {
      "cell_type": "code",
      "metadata": {
        "id": "Z8X3V5MKVQGg"
      },
      "source": [
        "from google.colab.patches import cv2_imshow\n",
        "def main():\n",
        "\tcamera = cv2.VideoCapture('https://github.com/kingyeet9048/final_dsci_project/raw/master/videos/walking.mp4')\n",
        "\n",
        "\t# setup the mouse callback\n",
        "\tcv2.namedWindow(\"frame\")\n",
        "\tcv2.setMouseCallback(\"frame\", selectROI)\n",
        "\n",
        "\t# initialize the termination criteria for cam shift, indicating\n",
        "\t# a maximum of ten iterations or movement by a least one pixel\n",
        "\t# along with the bounding box of the ROI\n",
        "\ttermination = (cv2.TERM_CRITERIA_EPS | cv2.TERM_CRITERIA_COUNT, 10, 1)\n",
        "\troiBox = None\n",
        "\n",
        "\t# keep looping over the frames\n",
        "\twhile True:\n",
        "\t\t# grab the current frame\n",
        "\t\t(grabbed, frame) = camera.read()\n",
        "\n",
        "\t\t# check to see if we have reached the end of the\n",
        "\t\t# video\n",
        "\t\tif not grabbed:\n",
        "\t\t\tbreak\n",
        "\n",
        "\t\t# if the see if the ROI has been computed\n",
        "\t\tif roiBox is not None:\n",
        "\t\t\t# convert the current frame to the HSV color space\n",
        "\t\t\t# and perform mean shift\n",
        "\t\t\thsv = cv2.cvtColor(frame, cv2.COLOR_BGR2HSV)\n",
        "\t\t\tbackProj = cv2.calcBackProject([hsv], [0], roiHist, [0, 180], 1)\n",
        "\n",
        "\t\t\t# apply cam shift to the back projection, convert the\n",
        "\t\t\t# points to a bounding box, and then draw them\n",
        "\t\t\t(r, roiBox) = cv2.CamShift(backProj, roiBox, termination)\n",
        "\t\t\tpts = np.int0(cv2.cv.BoxPoints(r))\n",
        "\t\t\tcv2.polylines(frame, [pts], True, (0, 255, 0), 2)\n",
        "\n",
        "\t\t# show the frame and record if the user presses a key\n",
        "\t\tcv2.imshow(\"frame\", frame)\n",
        "\t\tkey = cv2.waitKey(1) & 0xFF\n",
        "\n",
        "\t\t# handle if the 'i' key is pressed, then go into ROI\n",
        "\t\t# selection mode\n",
        "\t\tif key == ord(\"i\") and len(roiPts) < 4:\n",
        "\t\t\t# indicate that we are in input mode and clone the\n",
        "\t\t\t# frame\n",
        "\t\t\tinputMode = True\n",
        "\t\t\torig = frame.copy()\n",
        "\n",
        "\t\t\t# keep looping until 4 reference ROI points have\n",
        "\t\t\t# been selected; press any key to exit ROI selction\n",
        "\t\t\t# mode once 4 points have been selected\n",
        "\t\t\twhile len(roiPts) < 4:\n",
        "\t\t\t\tcv2.imshow(\"frame\", frame)\n",
        "\t\t\t\tcv2.waitKey(0)\n",
        "\n",
        "\t\t\t# determine the top-left and bottom-right points\n",
        "\t\t\troiPts = np.array(roiPts)\n",
        "\t\t\ts = roiPts.sum(axis = 1)\n",
        "\t\t\ttl = roiPts[np.argmin(s)]\n",
        "\t\t\tbr = roiPts[np.argmax(s)]\n",
        "\n",
        "\t\t\t# grab the ROI for the bounding box and convert it\n",
        "\t\t\t# to the HSV color space\n",
        "\t\t\troi = orig[tl[1]:br[1], tl[0]:br[0]]\n",
        "\t\t\troi = cv2.cvtColor(roi, cv2.COLOR_BGR2HSV)\n",
        "\t\t\t#roi = cv2.cvtColor(roi, cv2.COLOR_BGR2LAB)\n",
        "\n",
        "\t\t\t# compute a HSV histogram for the ROI and store the\n",
        "\t\t\t# bounding box\n",
        "\t\t\troiHist = cv2.calcHist([roi], [0], None, [16], [0, 180])\n",
        "\t\t\troiHist = cv2.normalize(roiHist, roiHist, 0, 255, cv2.NORM_MINMAX)\n",
        "\t\t\troiBox = (tl[0], tl[1], br[0], br[1])\n",
        "\n",
        "\t\t# if the 'q' key is pressed, stop the loop\n",
        "\t\telif key == ord(\"q\"):\n",
        "\t\t\tbreak\n",
        "\n",
        "\t# cleanup the camera and close any open windows\n",
        "\tcamera.release()\n",
        "\tcv2.destroyAllWindows()\n"
      ],
      "execution_count": 5,
      "outputs": []
    },
    {
      "cell_type": "code",
      "metadata": {
        "id": "2d1Hq8_eWm9B"
      },
      "source": [
        "main()"
      ],
      "execution_count": null,
      "outputs": []
    },
    {
      "cell_type": "code",
      "metadata": {
        "id": "A9I2ZPuIKhHs"
      },
      "source": [
        "cap  = cv.VideoCapture('https://github.com/kingyeet9048/final_dsci_project/raw/master/videos/walking.mp4')\n",
        "ret, frame = cap.read()"
      ],
      "execution_count": null,
      "outputs": []
    },
    {
      "cell_type": "code",
      "metadata": {
        "id": "FgqMXBX1Mx6t"
      },
      "source": [
        "r, h, c, w = 250,90,400,125\n",
        "track_window = (c, r, w, h)"
      ],
      "execution_count": null,
      "outputs": []
    },
    {
      "cell_type": "code",
      "metadata": {
        "id": "N_Lb1FhzNmiC"
      },
      "source": [
        "roi = frame[r:r+h, c:c+w]\n",
        "hsv_roi = cv.cvtColor(roi, cv.COLOR_BGR2HSV)\n",
        "mask = cv.inRange(hsv_roi, np.array((0.,60.,32.)), np.array((180.,255.,255.)))\n",
        "roi_hist = cv.calcHist([hsv_roi],[0],mask,[180],[0,180])\n",
        "cv.normalize(roi_hist,roi_hist,0,255,cv.NORM_MINMAX)"
      ],
      "execution_count": null,
      "outputs": []
    },
    {
      "cell_type": "code",
      "metadata": {
        "id": "pdip02BbPl6v"
      },
      "source": [
        "# Setup the termination criteria, either 10 iteration or move by atleast 1 pt\n",
        "term_crit = ( cv.TERM_CRITERIA_EPS | cv.TERM_CRITERIA_COUNT, 10, 1 )"
      ],
      "execution_count": null,
      "outputs": []
    },
    {
      "cell_type": "code",
      "metadata": {
        "id": "JKnn2rvkQU5a"
      },
      "source": [
        "from google.colab.patches import cv2_imshow\n",
        "while(1):\n",
        "    ret ,frame = cap.read()\n",
        "    if ret == True:\n",
        "        hsv = cv.cvtColor(frame, cv.COLOR_BGR2HSV)\n",
        "        dst = cv.calcBackProject([hsv],[0],roi_hist,[0,180],1)\n",
        "        # apply meanshift to get the new location\n",
        "        ret, track_window = cv.CamShift(dst, track_window, term_crit)\n",
        "        # Draw it on image\n",
        "        pts = cv.boxPoints(ret)\n",
        "        pts = np.int0(pts)\n",
        "        img2 = cv.polylines(frame,[pts],True, 255,2)\n",
        "        cv2_imshow(img2)\n",
        "        k = cv.waitKey(60) & 0xff\n",
        "        if k == 27:\n",
        "            break\n",
        "        else:\n",
        "            cv.imwrite(chr(k)+\".jpg\",img2)\n",
        "    else:\n",
        "        break\n",
        "cv.destroyAllWindows()\n",
        "cap.release()"
      ],
      "execution_count": null,
      "outputs": []
    }
  ]
}