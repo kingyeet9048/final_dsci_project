{
 "cells": [
  {
   "cell_type": "markdown",
   "metadata": {
    "colab_type": "text",
    "id": "view-in-github"
   },
   "source": [
    "<a href=\"https://colab.research.google.com/github/kingyeet9048/final_dsci_project/blob/master/Camshift.ipynb\" target=\"_parent\"><img src=\"https://colab.research.google.com/assets/colab-badge.svg\" alt=\"Open In Colab\"/></a>"
   ]
  },
  {
   "cell_type": "code",
   "execution_count": 967,
   "metadata": {
    "id": "YqxrDme9KUf2"
   },
   "outputs": [],
   "source": [
    "# import the necessary packages\n",
    "import numpy as np\n",
    "import argparse\n",
    "import cv2 as cv\n",
    "# initialize the current frame of the video, along with the list of# ROI points along with whether or not this is input mode\n",
    "frame = None\n",
    "roiPts = []\n",
    "inputMode = False"
   ]
  },
  {
   "cell_type": "code",
   "execution_count": 964,
   "metadata": {
    "id": "0UFbU52SUoYJ"
   },
   "outputs": [],
   "source": [
    "def selectROI(event, x, y, flags, param):\n",
    "  global frame, roiPts, inputMode\n",
    "\n",
    "  if inputMode and event == cv2.EVENT_LBUTTONDOWN and len(roiPts) < 4:\n",
    "    roiPts.append((x, y))\n",
    "    cv2.circle(frame, (x, y), 4, (0, 255, 0), 2)\n",
    "    cv2.imshow(\"frame\", frame)"
   ]
  },
  {
   "cell_type": "markdown",
   "metadata": {},
   "source": [
    "https://www.pyimagesearch.com/wp-content/uploads/2014/11/opencv_crash_course_camshift.pdf"
   ]
  },
  {
   "cell_type": "code",
   "execution_count": 965,
   "metadata": {
    "id": "Z8X3V5MKVQGg"
   },
   "outputs": [],
   "source": [
    "\n",
    "def main():\n",
    "    camera = cv2.VideoCapture('videos/phone.MOV')\n",
    "    global frame, roiPts, inputMode\n",
    "    # setup the mouse callback\n",
    "    cv2.namedWindow(\"frame\")\n",
    "    cv2.setMouseCallback(\"frame\", selectROI)\n",
    "\n",
    "    # initialize the termination criteria for cam shift, indicating\n",
    "    # a maximum of ten iterations or movement by a least one pixel\n",
    "    # along with the bounding box of the ROI\n",
    "    termination = (cv2.TERM_CRITERIA_EPS | cv2.TERM_CRITERIA_COUNT, 10, 1)\n",
    "    roiBox = None\n",
    "\n",
    "    # keep looping over the frames\n",
    "    while True:\n",
    "        # grab the current frame\n",
    "        (grabbed, frame) = camera.read()\n",
    "\n",
    "        # check to see if we have reached the end of the\n",
    "        # video\n",
    "        if not grabbed:\n",
    "            break\n",
    "\n",
    "        # if the see if the ROI has been computed\n",
    "        if roiBox is not None:\n",
    "            # convert the current frame to the HSV color space\n",
    "            # and perform mean shift\n",
    "            hsv = cv2.cvtColor(frame, cv2.COLOR_BGR2HSV)\n",
    "            backProj = cv2.calcBackProject([hsv], [0], roiHist, [0, 180], 1)\n",
    "\n",
    "            # apply cam shift to the back projection, convert the\n",
    "            # points to a bounding box, and then draw them\n",
    "            (r, roiBox) = cv2.CamShift(backProj, roiBox, termination)\n",
    "            pts = np.int0(cv2.boxPoints(r))\n",
    "            cv2.polylines(frame, [pts], True, (0, 255, 0), 2)\n",
    "\n",
    "        # show the frame and record if the user presses a key\n",
    "        cv2.imshow(\"frame\", frame)\n",
    "        key = cv2.waitKey(1) & 0xFF\n",
    "\n",
    "        # handle if the 'i' key is pressed, then go into ROI\n",
    "        # selection mode\n",
    "        if key == ord(\"a\") and len(roiPts) < 4:\n",
    "            # indicate that we are in input mode and clone the\n",
    "            # frame\n",
    "            inputMode = True\n",
    "            orig = frame.copy()\n",
    "\n",
    "            # keep looping until 4 reference ROI points have\n",
    "            # been selected; press any key to exit ROI selction\n",
    "            # mode once 4 points have been selected\n",
    "            while len(roiPts) < 4:\n",
    "                cv2.imshow(\"frame\", frame)\n",
    "                cv2.waitKey(0)\n",
    "\n",
    "            # determine the top-left and bottom-right points\n",
    "            roiPts = np.array(roiPts)\n",
    "            print(roiPts)\n",
    "            cv2.waitKey(0)\n",
    "            s = roiPts.sum(axis = 1)\n",
    "            tl = roiPts[np.argmin(s)]\n",
    "            br = roiPts[np.argmax(s)]\n",
    "\n",
    "            # grab the ROI for the bounding box and convert it\n",
    "            # to the HSV color space\n",
    "            roi = orig[tl[1]:br[1], tl[0]:br[0]]\n",
    "            roi = cv2.cvtColor(roi, cv2.COLOR_BGR2HSV)\n",
    "            #roi = cv2.cvtColor(roi, cv2.COLOR_BGR2LAB)\n",
    "\n",
    "            # compute a HSV histogram for the ROI and store the\n",
    "            # bounding box\n",
    "            roiHist = cv2.calcHist([roi], [0], None, [16], [0, 180])\n",
    "            roiHist = cv2.normalize(roiHist, roiHist, 0, 255, cv2.NORM_MINMAX)\n",
    "            roiBox = (tl[0], tl[1], br[0], br[1])\n",
    "\n",
    "        # if the 'q' key is pressed, stop the loop\n",
    "        elif key == ord(\"q\"):\n",
    "            break\n",
    "\n",
    "    # cleanup the camera and close any open windows\n",
    "    camera.release()\n",
    "    cv2.destroyAllWindows()\n"
   ]
  },
  {
   "cell_type": "code",
   "execution_count": null,
   "metadata": {},
   "outputs": [],
   "source": []
  },
  {
   "cell_type": "code",
   "execution_count": 966,
   "metadata": {
    "id": "2d1Hq8_eWm9B"
   },
   "outputs": [
    {
     "name": "stdout",
     "output_type": "stream",
     "text": [
      "[[770 675]\n",
      " [802 675]\n",
      " [810 754]\n",
      " [780 755]]\n"
     ]
    }
   ],
   "source": [
    "main()"
   ]
  },
  {
   "cell_type": "code",
   "execution_count": 1090,
   "metadata": {
    "id": "A9I2ZPuIKhHs"
   },
   "outputs": [],
   "source": [
    "cap  = cv.VideoCapture('videos/phone.MOV')\n",
    "ret, frame = cap.read()"
   ]
  },
  {
   "cell_type": "code",
   "execution_count": 1091,
   "metadata": {
    "id": "FgqMXBX1Mx6t"
   },
   "outputs": [],
   "source": [
    "r, h, c, w = 640,40,800,20\n",
    "track_window = (c, r, w, h)"
   ]
  },
  {
   "cell_type": "code",
   "execution_count": 1092,
   "metadata": {
    "id": "N_Lb1FhzNmiC"
   },
   "outputs": [],
   "source": [
    "roi = frame[r:r+h, c:c+w]\n",
    "hsv_roi = cv.cvtColor(roi, cv.COLOR_BGR2HSV)\n",
    "mask = cv.inRange(hsv_roi, np.array((0.,60.,32.)), np.array((180.,255.,255.)))\n",
    "roi_hist = cv.calcHist([hsv_roi],[0,1],mask,[12, 12],[0,181, 0, 256])\n",
    "#cv.normalize(roi_hist,roi_hist,0, 255,cv.NORM_MINMAX)\n"
   ]
  },
  {
   "cell_type": "code",
   "execution_count": 1093,
   "metadata": {
    "id": "pdip02BbPl6v"
   },
   "outputs": [],
   "source": [
    "# Setup the termination criteria, either 10 iteration or move by atleast 1 pt\n",
    "term_crit = ( cv.TERM_CRITERIA_EPS | cv.TERM_CRITERIA_COUNT, 10, 1 )"
   ]
  },
  {
   "cell_type": "code",
   "execution_count": 1094,
   "metadata": {
    "id": "JKnn2rvkQU5a"
   },
   "outputs": [],
   "source": [
    "while(1):\n",
    "    ret ,frame = cap.read()\n",
    "    if ret == True:\n",
    "        hsv = cv.cvtColor(frame, cv.COLOR_BGR2HSV)\n",
    "        dst = cv.calcBackProject([hsv],[0, 1],roi_hist,[0,180, 0, 256],1)\n",
    "        #clean up the noice\n",
    "        kernel = cv.getStructuringElement(cv.MORPH_ELLIPSE, (5, 5))\n",
    "        dst = cv.filter2D(dst, -1, kernel)\n",
    "        # apply camshift to get the new location\n",
    "        ret, track_window = cv.CamShift(dst, track_window, term_crit)\n",
    "        # Draw it on image\n",
    "        pts = cv.boxPoints(ret)\n",
    "        pts = np.int0(pts)\n",
    "        img2 = cv.polylines(frame,[pts],True, (255, 0, 0),2)\n",
    "        cv.imshow(\"img2\", img2)\n",
    "        k = cv.waitKey(60) & 0xff\n",
    "        if k == 32:\n",
    "            break\n",
    "        else:\n",
    "            cv.imwrite(chr(k)+\".jpg\",dst)\n",
    "    else:\n",
    "        break\n",
    "cv.destroyAllWindows()\n",
    "cap.release()"
   ]
  },
  {
   "cell_type": "code",
   "execution_count": null,
   "metadata": {},
   "outputs": [],
   "source": []
  },
  {
   "cell_type": "code",
   "execution_count": null,
   "metadata": {},
   "outputs": [],
   "source": []
  }
 ],
 "metadata": {
  "colab": {
   "authorship_tag": "ABX9TyP1jGfVVY4KVh/kfpHnFhSz",
   "collapsed_sections": [],
   "include_colab_link": true,
   "name": "Camshift.ipynb",
   "provenance": []
  },
  "kernelspec": {
   "display_name": "Python 3",
   "language": "python",
   "name": "python3"
  },
  "language_info": {
   "codemirror_mode": {
    "name": "ipython",
    "version": 3
   },
   "file_extension": ".py",
   "mimetype": "text/x-python",
   "name": "python",
   "nbconvert_exporter": "python",
   "pygments_lexer": "ipython3",
   "version": "3.7.6"
  }
 },
 "nbformat": 4,
 "nbformat_minor": 1
}
